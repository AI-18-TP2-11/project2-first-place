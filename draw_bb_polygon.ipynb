{
 "cells": [
  {
   "cell_type": "code",
   "execution_count": 1,
   "metadata": {},
   "outputs": [],
   "source": [
    "import cv2\n",
    "import json\n",
    "import numpy as np\n",
    "import os\n",
    "import random"
   ]
  },
  {
   "cell_type": "code",
   "execution_count": 2,
   "metadata": {},
   "outputs": [
    {
     "name": "stdout",
     "output_type": "stream",
     "text": [
      "c:\\Users\\jinmo\\Downloads\\120.개인형 이동장치 안전 데이터\\01.데이터\\데이터\\원천데이터\\CCTV\\주간\\맑음\\실증\\S000090_220_0266_C_D_F_0.jpg\n",
      "c:\\Users\\jinmo\\Downloads\\120.개인형 이동장치 안전 데이터\\01.데이터\\데이터\\라벨링데이터\\CCTV\\주간\\맑음\\실증\\S000090_220_0266_C_D_F_0.json\n"
     ]
    }
   ],
   "source": [
    "def random_image(cam='CCTV', time_='주간', weather='맑음', real='실증'):\n",
    "    '''\n",
    "    기본 이미지 디렉터리 구조: '데이터/원천데이터/{cam}/{time_}/{weather}/{real}\\n\n",
    "    json 디렉터리 구조: '데이터/라벨링데이터/{cam}/{time_}/{weather}/{real}\\n\n",
    "    cam: 'CCTV', '블랙박스'\\n\n",
    "    time_: '주간', '야간'\\n\n",
    "    weather: '맑음', '우천'\\n\n",
    "    real: '실증', '연출'\\n\\n\n",
    "    image, json_file_path, image_file_path, json_file_path 반환\n",
    "    '''\n",
    "    # 파일 경로 설정\n",
    "    image_parent_path = os.path.join(os.getcwd(), '데이터', '원천데이터', cam, time_, weather, real)\n",
    "    image_file_name = random.choice(os.listdir(image_parent_path))\n",
    "    image_file_path = os.path.join(image_parent_path, image_file_name)\n",
    "    json_file_path = image_file_path.replace('원천', '라벨링').replace('.jpg', '.json').replace('.jpeg', '.json')\n",
    "\n",
    "    # 이미지 파일 읽기\n",
    "    image_array = np.fromfile(image_file_path)\n",
    "    image = cv2.imdecode(image_array, cv2.IMREAD_COLOR)\n",
    "\n",
    "    # json 파일 읽기\n",
    "    with open(json_file_path,'r') as json_file:\n",
    "        data = json.load(json_file)\n",
    "\n",
    "    return image, data, image_file_path, json_file_path\n",
    "\n",
    "# 테스트 이미지 json\n",
    "_, __, image_file_path, json_file_path = random_image()\n",
    "print(image_file_path, json_file_path, sep='\\n')"
   ]
  },
  {
   "cell_type": "code",
   "execution_count": 2,
   "metadata": {},
   "outputs": [],
   "source": [
    "# # 파일 경로 설정\n",
    "# json_file_path = './데이터/라벨링데이터/VL1/CCTV/야간/맑음/실증/C000003_002_0204_C_N_F_0.json'\n",
    "# image_file_path = './데이터/원천데이터/VS1/CCTV/야간/맑음/실증/C000003_002_0204_C_N_F_0.jpg'\n",
    "# image_array = np.fromfile(image_file_path)\n",
    "\n",
    "# # 이미지 파일 읽기\n",
    "# image = cv2.imdecode(image_array, cv2.IMREAD_COLOR)\n",
    "# # image = cv2.imread('./T006222_006_0180_C_D_F_0.jpg') # 이미지 경로 수정 후 파일 로드\n",
    "# # 라벨링 파일(json) 읽기\n",
    "# with open(json_file_path,'r') as json_file:\n",
    "#     data = json.load(json_file)"
   ]
  },
  {
   "cell_type": "code",
   "execution_count": 3,
   "metadata": {},
   "outputs": [],
   "source": [
    "# # 라벨링 데이터에서 읽어온 좌표 적용 제대로 안됨\n",
    "# # image = cv2.imread('./C000003_002_0204_C_N_F_0.jpg')\n",
    "# # image = np.zeros((2000,2000,3))\n",
    "\n",
    "# image = cv2.imdecode(image_array, cv2.IMREAD_COLOR)\n",
    "# polygon_point_test = np.array(data['annotations']['environment'][2]['points'],np.float32)\n",
    "# polygon_point_test = polygon_point_test.reshape((-1,2))\n",
    "# polygon_point_test = polygon_point_test.astype(np.int32)\n",
    "# cv2.polylines(image, [polygon_point_test], isClosed=True, color = (0,0,255), thickness=2)\n",
    "# cv2.imshow('Labeled Image', image)\n",
    "# cv2.waitKey(0)\n",
    "# cv2.destroyAllWindows()"
   ]
  },
  {
   "cell_type": "code",
   "execution_count": 4,
   "metadata": {},
   "outputs": [],
   "source": [
    "# #문제 해결 \"x,y 좌표 수정 후 적용 \"\n",
    "# # image = cv2.imread('./C000003_002_0204_C_N_F_0.jpg')\n",
    "# # image = np.zeros((2000,2000,3))\n",
    "\n",
    "# image = cv2.imdecode(image_array, cv2.IMREAD_COLOR)\n",
    "# polygon_point_test = data['annotations']['environment'][2]['points']\n",
    "# swapped_polygon = [[y,x] for x, y in polygon_point_test]\n",
    "# polygon_point_test = np.array(swapped_polygon,np.float32)\n",
    "# polygon_point_test = polygon_point_test.reshape((-1,2))\n",
    "# polygon_point_test = polygon_point_test.astype(np.int32)\n",
    "# cv2.polylines(image, [polygon_point_test], isClosed=True, color = (0,0,255), thickness=2)\n",
    "# cv2.imshow('Labeled Image', image)\n",
    "# cv2.waitKey(0)\n",
    "# cv2.destroyAllWindows()"
   ]
  },
  {
   "cell_type": "code",
   "execution_count": 5,
   "metadata": {},
   "outputs": [],
   "source": [
    "# # 모든 polygon 데이터 시각화\n",
    "# # image = cv2.imread('./C000003_002_0204_C_N_F_0.jpg')\n",
    "# image = cv2.imdecode(image_array, cv2.IMREAD_COLOR)\n",
    "# for label_info in data['annotations']['environment']:\n",
    "#     label_type = label_info['shape_type']\n",
    "#     # if label_type == 'bbox':\n",
    "#     #     x, y, w, h = map(int, label_info['points'])\n",
    "#     #     cv2.rectangle(image, (x, y), (x+w, y+h), (0,255,0),2)\n",
    "#     if label_type == 'polygon':\n",
    "#         points = label_info['points']\n",
    "#         points = [[y,x] for x, y in points]\n",
    "#         polygon_points = np.array(points, np.float32)\n",
    "#         polygon_points = polygon_points.reshape((-1,2))\n",
    "#         polygon_points = polygon_points.astype(np.int32)\n",
    "#         cv2.polylines(image, [polygon_points], isClosed=True, color= (255,0,0), thickness=2)\n",
    "# cv2.imshow('Labeled Image', image)\n",
    "# cv2.waitKey(0)\n",
    "# cv2.destroyAllWindows()"
   ]
  },
  {
   "cell_type": "code",
   "execution_count": 6,
   "metadata": {},
   "outputs": [],
   "source": [
    "# # Area Code 추가\n",
    "# # image = cv2.imread('./C000003_002_0204_C_N_F_0.jpg')\n",
    "# image = cv2.imdecode(image_array, cv2.IMREAD_COLOR)\n",
    "# for label_info in data['annotations']['environment']:\n",
    "#     label_type = label_info['shape_type']\n",
    "#     # if label_type == 'bbox':\n",
    "#     #     x, y, w, h = map(int, label_info['points'])\n",
    "#     #     cv2.rectangle(image, (x, y), (x+w, y+h), (0,255,0),2)\n",
    "#     if label_type == 'polygon':\n",
    "#         points = label_info['points']\n",
    "#         points = [[y,x] for x, y in points]\n",
    "#         polygon_points = np.array(points, np.float32)\n",
    "#         polygon_points = polygon_points.reshape((-1,2))\n",
    "#         polygon_points = polygon_points.astype(np.int32)\n",
    "#         area_code = label_info['area_code']\n",
    "#         cv2.polylines(image, [polygon_points], isClosed=True, color= (255,0,0), thickness=2)\n",
    "#         cv2.putText(image, str(area_code), (polygon_points[1, 0], polygon_points[1, 1]), cv2.FONT_HERSHEY_SIMPLEX, 1, (0, 0, 255), 2)\n",
    "# cv2.imshow('Labeled Image', image)\n",
    "# cv2.waitKey(0)\n",
    "# cv2.destroyAllWindows()"
   ]
  },
  {
   "cell_type": "code",
   "execution_count": 4,
   "metadata": {},
   "outputs": [],
   "source": [
    "image, data, _, __ = random_image()\n",
    "# env\n",
    "for label_info in data['annotations']['environment']:\n",
    "    label_type = label_info['shape_type']\n",
    "    points = label_info['points']\n",
    "    points = [[y,x] for x, y in points]\n",
    "    polygon_points = np.array(points, np.float32)\n",
    "    polygon_points = polygon_points.reshape((-1,2))\n",
    "    polygon_points = polygon_points.astype(np.int32)\n",
    "    area_code = label_info['area_code']\n",
    "    cv2.polylines(image, [polygon_points], isClosed=True, color= (255,0,0), thickness=2)\n",
    "    cv2.putText(image, str(area_code), (polygon_points[1, 0], polygon_points[1, 1]), cv2.FONT_HERSHEY_SIMPLEX, 1, (0, 0, 255), 2)\n",
    "# PM\n",
    "for label_info in data['annotations']['PM']:\n",
    "    x, y, w, h = map(int, label_info['points'])\n",
    "    pm_code = label_info['PM_code']\n",
    "    cv2.rectangle(image, (x, y), (x+w, y+h), (0,255,0),2)\n",
    "    cv2.putText(image, str(pm_code), (x, y), cv2.FONT_HERSHEY_SIMPLEX, 1, (0, 255, 0), 2)\n",
    "cv2.imshow('Labeled Image', image)\n",
    "cv2.waitKey(0)\n",
    "cv2.destroyAllWindows()"
   ]
  }
 ],
 "metadata": {
  "kernelspec": {
   "display_name": "base",
   "language": "python",
   "name": "python3"
  },
  "language_info": {
   "codemirror_mode": {
    "name": "ipython",
    "version": 3
   },
   "file_extension": ".py",
   "mimetype": "text/x-python",
   "name": "python",
   "nbconvert_exporter": "python",
   "pygments_lexer": "ipython3",
   "version": "3.9.17"
  },
  "orig_nbformat": 4
 },
 "nbformat": 4,
 "nbformat_minor": 2
}
